{
 "cells": [
  {
   "cell_type": "code",
   "execution_count": 1,
   "metadata": {},
   "outputs": [],
   "source": [
    "import pandas as pd\n"
   ]
  },
  {
   "cell_type": "code",
   "execution_count": 2,
   "metadata": {},
   "outputs": [],
   "source": [
    "df = pd.DataFrame({\n",
    "    'Tag': ['tag1', 'tag2', 'tag1', 'tag3', 'tag2', 'tag3'],\n",
    "    'Value': ['A', 'B', 'C', 'D', 'E', 'F']\n",
    "})"
   ]
  },
  {
   "cell_type": "code",
   "execution_count": 4,
   "metadata": {},
   "outputs": [
    {
     "name": "stderr",
     "output_type": "stream",
     "text": [
      "C:\\Users\\yu\\AppData\\Local\\Temp\\ipykernel_24240\\2266936489.py:1: FutureWarning: Using short name for 'orient' is deprecated. Only the options: ('dict', list, 'series', 'split', 'records', 'index') will be used in a future version. Use one of the above to silence this warning.\n",
      "  df.to_dict('record')\n"
     ]
    },
    {
     "data": {
      "text/plain": [
       "[{'Tag': 'tag1', 'Value': 'A'},\n",
       " {'Tag': 'tag2', 'Value': 'B'},\n",
       " {'Tag': 'tag1', 'Value': 'C'},\n",
       " {'Tag': 'tag3', 'Value': 'D'},\n",
       " {'Tag': 'tag2', 'Value': 'E'},\n",
       " {'Tag': 'tag3', 'Value': 'F'}]"
      ]
     },
     "execution_count": 4,
     "metadata": {},
     "output_type": "execute_result"
    }
   ],
   "source": [
    "df.to_dict('record')"
   ]
  },
  {
   "cell_type": "code",
   "execution_count": 5,
   "metadata": {},
   "outputs": [],
   "source": [
    "tags = [{'Tag': 'tag1', 'Value': 'A'},\n",
    " {'Tag': 'tag2', 'Value': 'B'},\n",
    " {'Tag': 'tag3', 'Value': 'D'},]"
   ]
  },
  {
   "cell_type": "code",
   "execution_count": 6,
   "metadata": {},
   "outputs": [
    {
     "data": {
      "text/plain": [
       "[{'Tag': 'tag1', 'Value': 'A'},\n",
       " {'Tag': 'tag2', 'Value': 'B'},\n",
       " {'Tag': 'tag3', 'Value': 'D'}]"
      ]
     },
     "execution_count": 6,
     "metadata": {},
     "output_type": "execute_result"
    }
   ],
   "source": [
    "tags[]"
   ]
  },
  {
   "cell_type": "code",
   "execution_count": 7,
   "metadata": {},
   "outputs": [
    {
     "name": "stdout",
     "output_type": "stream",
     "text": [
      "{'agriculture': 'agriculture', 'competition': 'competition', 'customs valuation': 'customs valuation', 'ecommerce': 'ecommerce', 'environment': 'environment', 'financial services': 'financial services banking insurance', 'government procurement': 'government procurement', 'intellectual property rights': 'intellectual property rights', 'msme': 'msme', 'quantitative restriction': 'prohibitions, restrictions and licensing', 'rules of origin': 'rules of origin', 'sps': 'sps', 'subsidies': 'industrial subsidies', 'tariff': 'tariff or tariff duties', 'taxation': 'tax vat excise', 'tbt': 'standards and technical regulations', 'trade remedy': 'trade remedies'}\n"
     ]
    }
   ],
   "source": [
    "data = {\n",
    "    'competition':'competition',\n",
    "    'tariff':'tariff or tariff duties',\n",
    "    'rules of origin':'rules of origin',\n",
    "    'ecommerce':'ecommerce',\n",
    "    'government procurement':'government procurement',\n",
    "    'customs valuation':'customs valuation',\n",
    "    'subsidies':'industrial subsidies',\n",
    "    'environment':'environment',\n",
    "    'taxation':'tax vat excise',\n",
    "    'agriculture':'agriculture',\n",
    "    'sps':'sps',\n",
    "    'quantitative restriction':'prohibitions, restrictions and licensing',\n",
    "    'trade remedy':'trade remedies',\n",
    "    'tbt':'standards and technical regulations',\n",
    "    'intellectual property rights':'intellectual property rights',\n",
    "    'msme':'msme',\n",
    "    'financial services':'financial services banking insurance',\n",
    "}\n",
    "\n",
    "sorted_data = {k: data[k] for k in sorted(data)}\n",
    "\n",
    "print(sorted_data)"
   ]
  }
 ],
 "metadata": {
  "kernelspec": {
   "display_name": "base",
   "language": "python",
   "name": "python3"
  },
  "language_info": {
   "codemirror_mode": {
    "name": "ipython",
    "version": 3
   },
   "file_extension": ".py",
   "mimetype": "text/x-python",
   "name": "python",
   "nbconvert_exporter": "python",
   "pygments_lexer": "ipython3",
   "version": "3.9.13"
  },
  "orig_nbformat": 4
 },
 "nbformat": 4,
 "nbformat_minor": 2
}
